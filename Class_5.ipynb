{
 "cells": [
  {
   "cell_type": "markdown",
   "metadata": {},
   "source": [
    "<div class=\"alert alert-block alert-info\"> <h2> Pandas </h2> </div>"
   ]
  },
  {
   "cell_type": "code",
   "execution_count": 1,
   "metadata": {
    "collapsed": true
   },
   "outputs": [],
   "source": [
    "import pandas as pd\n",
    "import numpy as np"
   ]
  },
  {
   "cell_type": "markdown",
   "metadata": {},
   "source": [
    "<div class=\"alert alert-block alert-info\"> <h3> Pandas -- Read Data </h3> </div>"
   ]
  },
  {
   "cell_type": "markdown",
   "metadata": {},
   "source": [
    "<font class=\"alert alert-block alert-info\"> 檢查目前所在目錄 </font>"
   ]
  },
  {
   "cell_type": "code",
   "execution_count": 2,
   "metadata": {},
   "outputs": [
    {
     "data": {
      "text/plain": [
       "'/Users/hsinyu/Desktop/Python資料分析/Code/ME'"
      ]
     },
     "execution_count": 2,
     "metadata": {},
     "output_type": "execute_result"
    }
   ],
   "source": [
    "import os\n",
    "os.getcwd()"
   ]
  },
  {
   "cell_type": "markdown",
   "metadata": {},
   "source": [
    "<font class=\"alert alert-block alert-info\"> 匯入資料 </font>"
   ]
  },
  {
   "cell_type": "code",
   "execution_count": 3,
   "metadata": {
    "collapsed": true
   },
   "outputs": [],
   "source": [
    "Aboard_new = pd.read_csv('/Users/hsinyu/Desktop/Python資料分析/Data/Aboard_new.csv')"
   ]
  },
  {
   "cell_type": "markdown",
   "metadata": {},
   "source": [
    "<font class=\"alert alert-block alert-info\"> 確認資料是否成功匯入 </font>"
   ]
  },
  {
   "cell_type": "code",
   "execution_count": 4,
   "metadata": {
    "scrolled": true
   },
   "outputs": [
    {
     "data": {
      "text/html": [
       "<div>\n",
       "<table border=\"1\" class=\"dataframe\">\n",
       "  <thead>\n",
       "    <tr style=\"text-align: right;\">\n",
       "      <th></th>\n",
       "      <th>Continent</th>\n",
       "      <th>Country</th>\n",
       "      <th>2002</th>\n",
       "      <th>2003</th>\n",
       "      <th>2004</th>\n",
       "      <th>2005</th>\n",
       "      <th>2006</th>\n",
       "      <th>2007</th>\n",
       "      <th>2008</th>\n",
       "      <th>2009</th>\n",
       "      <th>2010</th>\n",
       "      <th>2011</th>\n",
       "      <th>2012</th>\n",
       "      <th>2013</th>\n",
       "      <th>Key</th>\n",
       "      <th>2014</th>\n",
       "      <th>2015</th>\n",
       "      <th>2016</th>\n",
       "    </tr>\n",
       "  </thead>\n",
       "  <tbody>\n",
       "    <tr>\n",
       "      <th>0</th>\n",
       "      <td>ASIA</td>\n",
       "      <td>香港 Hong Kong</td>\n",
       "      <td>2418872.0</td>\n",
       "      <td>1869069.0</td>\n",
       "      <td>2559705.0</td>\n",
       "      <td>2807027.0</td>\n",
       "      <td>2993317.0</td>\n",
       "      <td>3030971.0</td>\n",
       "      <td>2851170.0</td>\n",
       "      <td>2261001.0</td>\n",
       "      <td>2308633.0</td>\n",
       "      <td>2156760.0</td>\n",
       "      <td>2021212.0</td>\n",
       "      <td>2038732.0</td>\n",
       "      <td>香港</td>\n",
       "      <td>2018129</td>\n",
       "      <td>2008153</td>\n",
       "      <td>1902647</td>\n",
       "    </tr>\n",
       "    <tr>\n",
       "      <th>1</th>\n",
       "      <td>ASIA</td>\n",
       "      <td>大陸 Mainland China</td>\n",
       "      <td>1.0</td>\n",
       "      <td>44.0</td>\n",
       "      <td>0.0</td>\n",
       "      <td>0.0</td>\n",
       "      <td>0.0</td>\n",
       "      <td>0.0</td>\n",
       "      <td>188744.0</td>\n",
       "      <td>1516087.0</td>\n",
       "      <td>2424242.0</td>\n",
       "      <td>2846572.0</td>\n",
       "      <td>3139055.0</td>\n",
       "      <td>3072327.0</td>\n",
       "      <td>大陸</td>\n",
       "      <td>3267238</td>\n",
       "      <td>3403920</td>\n",
       "      <td>3685477</td>\n",
       "    </tr>\n",
       "    <tr>\n",
       "      <th>2</th>\n",
       "      <td>ASIA</td>\n",
       "      <td>日本 Japan</td>\n",
       "      <td>797460.0</td>\n",
       "      <td>731330.0</td>\n",
       "      <td>1051954.0</td>\n",
       "      <td>1180406.0</td>\n",
       "      <td>1214058.0</td>\n",
       "      <td>1280853.0</td>\n",
       "      <td>1309847.0</td>\n",
       "      <td>1113857.0</td>\n",
       "      <td>1377957.0</td>\n",
       "      <td>1136394.0</td>\n",
       "      <td>1560300.0</td>\n",
       "      <td>2346007.0</td>\n",
       "      <td>日本</td>\n",
       "      <td>2971846</td>\n",
       "      <td>3797879</td>\n",
       "      <td>4295240</td>\n",
       "    </tr>\n",
       "    <tr>\n",
       "      <th>3</th>\n",
       "      <td>ASIA</td>\n",
       "      <td>韓國 Korea</td>\n",
       "      <td>120208.0</td>\n",
       "      <td>179893.0</td>\n",
       "      <td>298325.0</td>\n",
       "      <td>368206.0</td>\n",
       "      <td>396705.0</td>\n",
       "      <td>457095.0</td>\n",
       "      <td>363122.0</td>\n",
       "      <td>388806.0</td>\n",
       "      <td>406290.0</td>\n",
       "      <td>423266.0</td>\n",
       "      <td>532729.0</td>\n",
       "      <td>518528.0</td>\n",
       "      <td>韓國</td>\n",
       "      <td>626694</td>\n",
       "      <td>500100</td>\n",
       "      <td>808420</td>\n",
       "    </tr>\n",
       "    <tr>\n",
       "      <th>4</th>\n",
       "      <td>ASIA</td>\n",
       "      <td>新加坡 Singapore</td>\n",
       "      <td>190455.0</td>\n",
       "      <td>125491.0</td>\n",
       "      <td>160088.0</td>\n",
       "      <td>184926.0</td>\n",
       "      <td>204834.0</td>\n",
       "      <td>189835.0</td>\n",
       "      <td>167479.0</td>\n",
       "      <td>137348.0</td>\n",
       "      <td>166126.0</td>\n",
       "      <td>207808.0</td>\n",
       "      <td>241893.0</td>\n",
       "      <td>297588.0</td>\n",
       "      <td>新加坡</td>\n",
       "      <td>283925</td>\n",
       "      <td>318516</td>\n",
       "      <td>319915</td>\n",
       "    </tr>\n",
       "  </tbody>\n",
       "</table>\n",
       "</div>"
      ],
      "text/plain": [
       "  Continent            Country       2002       2003       2004       2005  \\\n",
       "0      ASIA       香港 Hong Kong  2418872.0  1869069.0  2559705.0  2807027.0   \n",
       "1      ASIA  大陸 Mainland China        1.0       44.0        0.0        0.0   \n",
       "2      ASIA           日本 Japan   797460.0   731330.0  1051954.0  1180406.0   \n",
       "3      ASIA           韓國 Korea   120208.0   179893.0   298325.0   368206.0   \n",
       "4      ASIA      新加坡 Singapore   190455.0   125491.0   160088.0   184926.0   \n",
       "\n",
       "        2006       2007       2008       2009       2010       2011  \\\n",
       "0  2993317.0  3030971.0  2851170.0  2261001.0  2308633.0  2156760.0   \n",
       "1        0.0        0.0   188744.0  1516087.0  2424242.0  2846572.0   \n",
       "2  1214058.0  1280853.0  1309847.0  1113857.0  1377957.0  1136394.0   \n",
       "3   396705.0   457095.0   363122.0   388806.0   406290.0   423266.0   \n",
       "4   204834.0   189835.0   167479.0   137348.0   166126.0   207808.0   \n",
       "\n",
       "        2012       2013  Key     2014     2015     2016  \n",
       "0  2021212.0  2038732.0   香港  2018129  2008153  1902647  \n",
       "1  3139055.0  3072327.0   大陸  3267238  3403920  3685477  \n",
       "2  1560300.0  2346007.0   日本  2971846  3797879  4295240  \n",
       "3   532729.0   518528.0   韓國   626694   500100   808420  \n",
       "4   241893.0   297588.0  新加坡   283925   318516   319915  "
      ]
     },
     "execution_count": 4,
     "metadata": {},
     "output_type": "execute_result"
    }
   ],
   "source": [
    "Aboard_new.head()"
   ]
  },
  {
   "cell_type": "markdown",
   "metadata": {},
   "source": [
    "<font class=\"alert alert-block alert-info\"> 檢查資料是否有遺失值 </font>"
   ]
  },
  {
   "cell_type": "code",
   "execution_count": 5,
   "metadata": {
    "scrolled": true
   },
   "outputs": [
    {
     "data": {
      "text/plain": [
       "Continent    0\n",
       "Country      0\n",
       "2002         0\n",
       "2003         0\n",
       "2004         0\n",
       "2005         0\n",
       "2006         0\n",
       "2007         0\n",
       "2008         0\n",
       "2009         0\n",
       "2010         0\n",
       "2011         0\n",
       "2012         0\n",
       "2013         0\n",
       "Key          0\n",
       "2014         0\n",
       "2015         0\n",
       "2016         0\n",
       "dtype: int64"
      ]
     },
     "execution_count": 5,
     "metadata": {},
     "output_type": "execute_result"
    }
   ],
   "source": [
    "Aboard_new.isnull().sum()"
   ]
  },
  {
   "cell_type": "markdown",
   "metadata": {},
   "source": [
    "<div class=\"alert alert-block alert-danger\"> <h3>Q1. 將 Aboard_new 中的 index 改成 Aboard_new中Key這個欄位的資料 </h3> </div>"
   ]
  },
  {
   "cell_type": "markdown",
   "metadata": {},
   "source": [
    "<font class=\"alert alert-block alert-danger\"> Answer </font>"
   ]
  },
  {
   "cell_type": "code",
   "execution_count": null,
   "metadata": {
    "collapsed": true
   },
   "outputs": [],
   "source": []
  },
  {
   "cell_type": "markdown",
   "metadata": {},
   "source": [
    "<div class=\"alert alert-block alert-danger\"> <h3>Q2. 將 Aboard_new 中Key 這個欄位刪除 </h3> </div>"
   ]
  },
  {
   "cell_type": "markdown",
   "metadata": {},
   "source": [
    "<font class=\"alert alert-block alert-danger\"> Answer </font>"
   ]
  },
  {
   "cell_type": "code",
   "execution_count": null,
   "metadata": {
    "collapsed": true
   },
   "outputs": [],
   "source": []
  },
  {
   "cell_type": "markdown",
   "metadata": {},
   "source": [
    "<div class=\"alert alert-block alert-info\"> <h3> Pandas -- Reshaping </h3> </div>"
   ]
  },
  {
   "cell_type": "markdown",
   "metadata": {},
   "source": [
    "<font class=\"alert alert-block alert-warning\"> 建立一個 Demo Data (Temperature_Year)</font>"
   ]
  },
  {
   "cell_type": "code",
   "execution_count": 8,
   "metadata": {
    "scrolled": true
   },
   "outputs": [
    {
     "name": "stdout",
     "output_type": "stream",
     "text": [
      "(9, 5)\n"
     ]
    },
    {
     "data": {
      "text/html": [
       "<div>\n",
       "<table border=\"1\" class=\"dataframe\">\n",
       "  <thead>\n",
       "    <tr style=\"text-align: right;\">\n",
       "      <th></th>\n",
       "      <th>Average</th>\n",
       "      <th>City</th>\n",
       "      <th>Max</th>\n",
       "      <th>Min</th>\n",
       "      <th>Year</th>\n",
       "    </tr>\n",
       "  </thead>\n",
       "  <tbody>\n",
       "    <tr>\n",
       "      <th>0</th>\n",
       "      <td>24.48</td>\n",
       "      <td>Taipei</td>\n",
       "      <td>30.5</td>\n",
       "      <td>16.5</td>\n",
       "      <td>2014</td>\n",
       "    </tr>\n",
       "    <tr>\n",
       "      <th>1</th>\n",
       "      <td>23.81</td>\n",
       "      <td>Taichung</td>\n",
       "      <td>30.1</td>\n",
       "      <td>16.4</td>\n",
       "      <td>2014</td>\n",
       "    </tr>\n",
       "    <tr>\n",
       "      <th>2</th>\n",
       "      <td>25.57</td>\n",
       "      <td>Kaohsiung</td>\n",
       "      <td>30.3</td>\n",
       "      <td>19.5</td>\n",
       "      <td>2014</td>\n",
       "    </tr>\n",
       "    <tr>\n",
       "      <th>3</th>\n",
       "      <td>24.07</td>\n",
       "      <td>Taipei</td>\n",
       "      <td>30.0</td>\n",
       "      <td>16.7</td>\n",
       "      <td>2015</td>\n",
       "    </tr>\n",
       "    <tr>\n",
       "      <th>4</th>\n",
       "      <td>23.97</td>\n",
       "      <td>Taichung</td>\n",
       "      <td>29.7</td>\n",
       "      <td>17.1</td>\n",
       "      <td>2015</td>\n",
       "    </tr>\n",
       "    <tr>\n",
       "      <th>5</th>\n",
       "      <td>24.33</td>\n",
       "      <td>Kaohsiung</td>\n",
       "      <td>30.6</td>\n",
       "      <td>17.3</td>\n",
       "      <td>2015</td>\n",
       "    </tr>\n",
       "    <tr>\n",
       "      <th>6</th>\n",
       "      <td>24.19</td>\n",
       "      <td>Taipei</td>\n",
       "      <td>30.3</td>\n",
       "      <td>15.5</td>\n",
       "      <td>2016</td>\n",
       "    </tr>\n",
       "    <tr>\n",
       "      <th>7</th>\n",
       "      <td>25.77</td>\n",
       "      <td>Taichung</td>\n",
       "      <td>29.4</td>\n",
       "      <td>16.4</td>\n",
       "      <td>2016</td>\n",
       "    </tr>\n",
       "    <tr>\n",
       "      <th>8</th>\n",
       "      <td>25.92</td>\n",
       "      <td>Kaohsiung</td>\n",
       "      <td>30.2</td>\n",
       "      <td>19.3</td>\n",
       "      <td>2016</td>\n",
       "    </tr>\n",
       "  </tbody>\n",
       "</table>\n",
       "</div>"
      ],
      "text/plain": [
       "   Average       City   Max   Min  Year\n",
       "0    24.48     Taipei  30.5  16.5  2014\n",
       "1    23.81   Taichung  30.1  16.4  2014\n",
       "2    25.57  Kaohsiung  30.3  19.5  2014\n",
       "3    24.07     Taipei  30.0  16.7  2015\n",
       "4    23.97   Taichung  29.7  17.1  2015\n",
       "5    24.33  Kaohsiung  30.6  17.3  2015\n",
       "6    24.19     Taipei  30.3  15.5  2016\n",
       "7    25.77   Taichung  29.4  16.4  2016\n",
       "8    25.92  Kaohsiung  30.2  19.3  2016"
      ]
     },
     "execution_count": 8,
     "metadata": {},
     "output_type": "execute_result"
    }
   ],
   "source": [
    "Year = ['2014','2014','2014','2015','2015','2015','2016','2016','2016']\n",
    "City = ['Taipei','Taichung','Kaohsiung','Taipei','Taichung','Kaohsiung','Taipei','Taichung','Kaohsiung']\n",
    "Average = [24.48,23.81,25.57,24.07,23.97,24.33,24.19,25.77,25.92]\n",
    "Max = [30.5,30.1,30.3,30.0,29.7,30.6,30.3,29.4,30.2]\n",
    "Min = [16.5,16.4,19.5,16.7,17.1,17.3,15.5,16.4,19.3]\n",
    "Temperature_Year_table = {\"Year\" : Year,\n",
    "                          \"City\" : City,\n",
    "                          \"Average\" : Average,\n",
    "                          \"Max\" : Max,\n",
    "                          \"Min\" : Min}\n",
    "Temperature_Year = pd.DataFrame(Temperature_Year_table)\n",
    "print(Temperature_Year.shape)\n",
    "Temperature_Year"
   ]
  },
  {
   "cell_type": "markdown",
   "metadata": {},
   "source": [
    "<font class=\"alert alert-block alert-info\"> 利用 pivot_table 呈現出不同城市年均溫的變化 </font>"
   ]
  },
  {
   "cell_type": "code",
   "execution_count": null,
   "metadata": {
    "collapsed": true
   },
   "outputs": [],
   "source": []
  },
  {
   "cell_type": "markdown",
   "metadata": {},
   "source": [
    "<font class=\"alert alert-block alert-info\"> 利用 pivot_table 呈現出想關心的資料(同時看多個資訊)</font>"
   ]
  },
  {
   "cell_type": "code",
   "execution_count": null,
   "metadata": {
    "collapsed": true
   },
   "outputs": [],
   "source": []
  },
  {
   "cell_type": "markdown",
   "metadata": {},
   "source": [
    "<div class=\"alert alert-block alert-danger\"> <h3>Q3. 利用 pivot_table 呈現出各年度在不同城市最大溫度的變化\n",
    " </h3> </div>"
   ]
  },
  {
   "cell_type": "markdown",
   "metadata": {},
   "source": [
    "<font class=\"alert alert-block alert-danger\"> Answer </font> "
   ]
  },
  {
   "cell_type": "code",
   "execution_count": null,
   "metadata": {
    "collapsed": true
   },
   "outputs": [],
   "source": []
  },
  {
   "cell_type": "markdown",
   "metadata": {},
   "source": [
    "<font class=\"alert alert-block alert-warning\"> 建立一個 Demo Data (Temperature_Season)</font>"
   ]
  },
  {
   "cell_type": "code",
   "execution_count": 12,
   "metadata": {
    "scrolled": true
   },
   "outputs": [
    {
     "name": "stdout",
     "output_type": "stream",
     "text": [
      "(24, 4)\n"
     ]
    },
    {
     "data": {
      "text/html": [
       "<div>\n",
       "<table border=\"1\" class=\"dataframe\">\n",
       "  <thead>\n",
       "    <tr style=\"text-align: right;\">\n",
       "      <th></th>\n",
       "      <th>Average</th>\n",
       "      <th>City</th>\n",
       "      <th>Season</th>\n",
       "      <th>Year</th>\n",
       "    </tr>\n",
       "  </thead>\n",
       "  <tbody>\n",
       "    <tr>\n",
       "      <th>0</th>\n",
       "      <td>16.60</td>\n",
       "      <td>Taipei</td>\n",
       "      <td>Winter</td>\n",
       "      <td>2014</td>\n",
       "    </tr>\n",
       "    <tr>\n",
       "      <th>1</th>\n",
       "      <td>22.20</td>\n",
       "      <td>Taipei</td>\n",
       "      <td>Spring</td>\n",
       "      <td>2014</td>\n",
       "    </tr>\n",
       "    <tr>\n",
       "      <th>2</th>\n",
       "      <td>29.57</td>\n",
       "      <td>Taipei</td>\n",
       "      <td>Summer</td>\n",
       "      <td>2014</td>\n",
       "    </tr>\n",
       "    <tr>\n",
       "      <th>3</th>\n",
       "      <td>25.57</td>\n",
       "      <td>Taipei</td>\n",
       "      <td>Fall</td>\n",
       "      <td>2014</td>\n",
       "    </tr>\n",
       "    <tr>\n",
       "      <th>4</th>\n",
       "      <td>18.80</td>\n",
       "      <td>Taipei</td>\n",
       "      <td>Winter</td>\n",
       "      <td>2015</td>\n",
       "    </tr>\n",
       "    <tr>\n",
       "      <th>5</th>\n",
       "      <td>22.57</td>\n",
       "      <td>Taipei</td>\n",
       "      <td>Spring</td>\n",
       "      <td>2015</td>\n",
       "    </tr>\n",
       "    <tr>\n",
       "      <th>6</th>\n",
       "      <td>29.53</td>\n",
       "      <td>Taipei</td>\n",
       "      <td>Summer</td>\n",
       "      <td>2015</td>\n",
       "    </tr>\n",
       "    <tr>\n",
       "      <th>7</th>\n",
       "      <td>25.37</td>\n",
       "      <td>Taipei</td>\n",
       "      <td>Fall</td>\n",
       "      <td>2015</td>\n",
       "    </tr>\n",
       "    <tr>\n",
       "      <th>8</th>\n",
       "      <td>16.83</td>\n",
       "      <td>Taichung</td>\n",
       "      <td>Winter</td>\n",
       "      <td>2014</td>\n",
       "    </tr>\n",
       "    <tr>\n",
       "      <th>9</th>\n",
       "      <td>23.23</td>\n",
       "      <td>Taichung</td>\n",
       "      <td>Spring</td>\n",
       "      <td>2014</td>\n",
       "    </tr>\n",
       "    <tr>\n",
       "      <th>10</th>\n",
       "      <td>29.20</td>\n",
       "      <td>Taichung</td>\n",
       "      <td>Summer</td>\n",
       "      <td>2014</td>\n",
       "    </tr>\n",
       "    <tr>\n",
       "      <th>11</th>\n",
       "      <td>25.97</td>\n",
       "      <td>Taichung</td>\n",
       "      <td>Fall</td>\n",
       "      <td>2014</td>\n",
       "    </tr>\n",
       "    <tr>\n",
       "      <th>12</th>\n",
       "      <td>18.27</td>\n",
       "      <td>Taichung</td>\n",
       "      <td>Winter</td>\n",
       "      <td>2015</td>\n",
       "    </tr>\n",
       "    <tr>\n",
       "      <th>13</th>\n",
       "      <td>24.00</td>\n",
       "      <td>Taichung</td>\n",
       "      <td>Spring</td>\n",
       "      <td>2015</td>\n",
       "    </tr>\n",
       "    <tr>\n",
       "      <th>14</th>\n",
       "      <td>28.97</td>\n",
       "      <td>Taichung</td>\n",
       "      <td>Summer</td>\n",
       "      <td>2015</td>\n",
       "    </tr>\n",
       "    <tr>\n",
       "      <th>15</th>\n",
       "      <td>26.10</td>\n",
       "      <td>Taichung</td>\n",
       "      <td>Fall</td>\n",
       "      <td>2015</td>\n",
       "    </tr>\n",
       "    <tr>\n",
       "      <th>16</th>\n",
       "      <td>20.00</td>\n",
       "      <td>Kaohsiung</td>\n",
       "      <td>Winter</td>\n",
       "      <td>2014</td>\n",
       "    </tr>\n",
       "    <tr>\n",
       "      <th>17</th>\n",
       "      <td>25.43</td>\n",
       "      <td>Kaohsiung</td>\n",
       "      <td>Spring</td>\n",
       "      <td>2014</td>\n",
       "    </tr>\n",
       "    <tr>\n",
       "      <th>18</th>\n",
       "      <td>29.53</td>\n",
       "      <td>Kaohsiung</td>\n",
       "      <td>Summer</td>\n",
       "      <td>2014</td>\n",
       "    </tr>\n",
       "    <tr>\n",
       "      <th>19</th>\n",
       "      <td>27.30</td>\n",
       "      <td>Kaohsiung</td>\n",
       "      <td>Fall</td>\n",
       "      <td>2014</td>\n",
       "    </tr>\n",
       "    <tr>\n",
       "      <th>20</th>\n",
       "      <td>19.87</td>\n",
       "      <td>Kaohsiung</td>\n",
       "      <td>Winter</td>\n",
       "      <td>2015</td>\n",
       "    </tr>\n",
       "    <tr>\n",
       "      <th>21</th>\n",
       "      <td>26.03</td>\n",
       "      <td>Kaohsiung</td>\n",
       "      <td>Spring</td>\n",
       "      <td>2015</td>\n",
       "    </tr>\n",
       "    <tr>\n",
       "      <th>22</th>\n",
       "      <td>29.63</td>\n",
       "      <td>Kaohsiung</td>\n",
       "      <td>Summer</td>\n",
       "      <td>2015</td>\n",
       "    </tr>\n",
       "    <tr>\n",
       "      <th>23</th>\n",
       "      <td>27.57</td>\n",
       "      <td>Kaohsiung</td>\n",
       "      <td>Fall</td>\n",
       "      <td>2015</td>\n",
       "    </tr>\n",
       "  </tbody>\n",
       "</table>\n",
       "</div>"
      ],
      "text/plain": [
       "    Average       City  Season  Year\n",
       "0     16.60     Taipei  Winter  2014\n",
       "1     22.20     Taipei  Spring  2014\n",
       "2     29.57     Taipei  Summer  2014\n",
       "3     25.57     Taipei    Fall  2014\n",
       "4     18.80     Taipei  Winter  2015\n",
       "5     22.57     Taipei  Spring  2015\n",
       "6     29.53     Taipei  Summer  2015\n",
       "7     25.37     Taipei    Fall  2015\n",
       "8     16.83   Taichung  Winter  2014\n",
       "9     23.23   Taichung  Spring  2014\n",
       "10    29.20   Taichung  Summer  2014\n",
       "11    25.97   Taichung    Fall  2014\n",
       "12    18.27   Taichung  Winter  2015\n",
       "13    24.00   Taichung  Spring  2015\n",
       "14    28.97   Taichung  Summer  2015\n",
       "15    26.10   Taichung    Fall  2015\n",
       "16    20.00  Kaohsiung  Winter  2014\n",
       "17    25.43  Kaohsiung  Spring  2014\n",
       "18    29.53  Kaohsiung  Summer  2014\n",
       "19    27.30  Kaohsiung    Fall  2014\n",
       "20    19.87  Kaohsiung  Winter  2015\n",
       "21    26.03  Kaohsiung  Spring  2015\n",
       "22    29.63  Kaohsiung  Summer  2015\n",
       "23    27.57  Kaohsiung    Fall  2015"
      ]
     },
     "execution_count": 12,
     "metadata": {},
     "output_type": "execute_result"
    }
   ],
   "source": [
    "Year = ['2014','2014','2014','2014','2015','2015','2015','2015',\n",
    "        '2014','2014','2014','2014','2015','2015','2015','2015',\n",
    "        '2014','2014','2014','2014','2015','2015','2015','2015']\n",
    "Season = ['Winter','Spring','Summer','Fall','Winter','Spring','Summer','Fall',\n",
    "          'Winter','Spring','Summer','Fall','Winter','Spring','Summer','Fall',\n",
    "          'Winter','Spring','Summer','Fall','Winter','Spring','Summer','Fall']\n",
    "City = ['Taipei','Taipei','Taipei','Taipei','Taipei','Taipei','Taipei','Taipei',\n",
    "        'Taichung','Taichung','Taichung','Taichung','Taichung','Taichung','Taichung','Taichung',\n",
    "        'Kaohsiung','Kaohsiung','Kaohsiung','Kaohsiung','Kaohsiung','Kaohsiung','Kaohsiung','Kaohsiung']\n",
    "Average=[16.6,22.2,29.57,25.57,18.8,22.57,29.53,25.37,\n",
    "         16.83,23.23,29.2,25.97,18.27,24.0,28.97,26.1,\n",
    "         20.0,25.43,29.53,27.3,19.87,26.03,29.63,27.57]\n",
    "Temperature_Season_table = {\"Year\" : Year,\n",
    "                            \"City\" : City,\n",
    "                            \"Season\" : Season,\n",
    "                            \"Average\" : Average }\n",
    "Temperature_Season = pd.DataFrame(Temperature_Season_table)\n",
    "print(Temperature_Season.shape)\n",
    "Temperature_Season"
   ]
  },
  {
   "cell_type": "markdown",
   "metadata": {},
   "source": [
    "<font class=\"alert alert-block alert-info\"> 利用 pivot_table 呈現出不同城市季均溫的變化 </font>"
   ]
  },
  {
   "cell_type": "code",
   "execution_count": null,
   "metadata": {
    "collapsed": true
   },
   "outputs": [],
   "source": []
  },
  {
   "cell_type": "markdown",
   "metadata": {},
   "source": [
    "<font class=\"alert alert-block alert-warning\"> 建立一個 Demo Data (Temperature)</font>"
   ]
  },
  {
   "cell_type": "code",
   "execution_count": 14,
   "metadata": {
    "scrolled": true
   },
   "outputs": [
    {
     "name": "stdout",
     "output_type": "stream",
     "text": [
      "(36, 6)\n"
     ]
    },
    {
     "data": {
      "text/html": [
       "<div>\n",
       "<table border=\"1\" class=\"dataframe\">\n",
       "  <thead>\n",
       "    <tr style=\"text-align: right;\">\n",
       "      <th></th>\n",
       "      <th>Kaohsiung</th>\n",
       "      <th>Month</th>\n",
       "      <th>Season</th>\n",
       "      <th>Taichung</th>\n",
       "      <th>Taipei</th>\n",
       "      <th>Year</th>\n",
       "    </tr>\n",
       "  </thead>\n",
       "  <tbody>\n",
       "    <tr>\n",
       "      <th>0</th>\n",
       "      <td>19.5</td>\n",
       "      <td>JAN</td>\n",
       "      <td>Winter</td>\n",
       "      <td>16.4</td>\n",
       "      <td>16.8</td>\n",
       "      <td>2014</td>\n",
       "    </tr>\n",
       "    <tr>\n",
       "      <th>1</th>\n",
       "      <td>20.3</td>\n",
       "      <td>FEB</td>\n",
       "      <td>Winter</td>\n",
       "      <td>17.0</td>\n",
       "      <td>16.5</td>\n",
       "      <td>2014</td>\n",
       "    </tr>\n",
       "    <tr>\n",
       "      <th>2</th>\n",
       "      <td>22.6</td>\n",
       "      <td>MAR</td>\n",
       "      <td>Spring</td>\n",
       "      <td>19.8</td>\n",
       "      <td>18.9</td>\n",
       "      <td>2014</td>\n",
       "    </tr>\n",
       "    <tr>\n",
       "      <th>3</th>\n",
       "      <td>25.9</td>\n",
       "      <td>APR</td>\n",
       "      <td>Spring</td>\n",
       "      <td>24.1</td>\n",
       "      <td>22.5</td>\n",
       "      <td>2014</td>\n",
       "    </tr>\n",
       "    <tr>\n",
       "      <th>4</th>\n",
       "      <td>27.8</td>\n",
       "      <td>MAY</td>\n",
       "      <td>Spring</td>\n",
       "      <td>25.8</td>\n",
       "      <td>25.2</td>\n",
       "      <td>2014</td>\n",
       "    </tr>\n",
       "  </tbody>\n",
       "</table>\n",
       "</div>"
      ],
      "text/plain": [
       "   Kaohsiung Month  Season  Taichung  Taipei  Year\n",
       "0       19.5   JAN  Winter      16.4    16.8  2014\n",
       "1       20.3   FEB  Winter      17.0    16.5  2014\n",
       "2       22.6   MAR  Spring      19.8    18.9  2014\n",
       "3       25.9   APR  Spring      24.1    22.5  2014\n",
       "4       27.8   MAY  Spring      25.8    25.2  2014"
      ]
     },
     "execution_count": 14,
     "metadata": {},
     "output_type": "execute_result"
    }
   ],
   "source": [
    "Year = ['2014','2014','2014','2014','2014','2014','2014','2014','2014','2014','2014','2014',\n",
    "        '2015','2015','2015','2015','2015','2015','2015','2015','2015','2015','2015','2015',\n",
    "        '2016','2016','2016','2016','2016','2016','2016','2016','2016','2016','2016','2016']\n",
    "Month = ['JAN','FEB','MAR','APR','MAY','JUN','JUL','AUG','SEP','OCT','NOV','DEC',\n",
    "         'JAN','FEB','MAR','APR','MAY','JUN','JUL','AUG','SEP','OCT','NOV','DEC',\n",
    "         'JAN','FEB','MAR','APR','MAY','JUN','JUL','AUG','SEP','OCT','NOV','DEC']\n",
    "Season = ['Winter','Winter','Spring','Spring','Spring','Summer','Summer','Summer','Fall','Fall','Fall','Winter',\n",
    "          'Winter','Winter','Spring','Spring','Spring','Summer','Summer','Summer','Fall','Fall','Fall','Winter',\n",
    "          'Winter','Winter','Spring','Spring','Spring','Summer','Summer','Summer','Fall','Fall','Fall','Winter']\n",
    "Taipei = [16.8,16.5,18.9,22.5,25.2,28.0,30.5,30.2,29.7,24.7,22.3,16.5,\n",
    "          16.7,20.8,18.9,22.7,26.1,30.0,30.0,28.6,27.4,25.2,23.5,18.9,\n",
    "          16.2,15.5,17.5,24.0,27.1,29.4,30.3,30.1,27.8,27.0,22.6,20.1]\n",
    "Taichung = [16.4,17.0,19.8,24.1,25.8,28.6,30.1,28.9,29.2,25.6,23.1,17.1,\n",
    "            17.1,18.1,20.7,24.4,26.9,29.7,29.2,28.0,27.8,26.2,24.3,19.6,\n",
    "            16.8,16.4,18.3,24.9,27.6,28.8,29.4,28.9,27.9,27.5,23.4,20.4] \n",
    "Kaohsiung = [19.5,20.3,22.6,25.9,27.8,29.2,30.3,29.1,29.5,27.2,25.2,20.2,\n",
    "             19.9,17.3,23.6,26.2,28.3,30.6,29.5,28.8,28.8,27.7,26.2,22.4,\n",
    "             19.3,19.6,21.6,26.9,28.9,29.7,30.2,29.4,28.4,28.4,25.7,22.9]\n",
    "Temperature_table = { \"Year\" : Year,\n",
    "                      \"Month\" : Month,\n",
    "                      \"Season\" : Season,\n",
    "                      \"Taipei\" : Taipei,\n",
    "                      \"Taichung\" : Taichung,\n",
    "                      \"Kaohsiung\" : Kaohsiung }\n",
    "Temperature = pd.DataFrame(Temperature_table)\n",
    "print(Temperature.shape)\n",
    "Temperature.head()"
   ]
  },
  {
   "cell_type": "markdown",
   "metadata": {},
   "source": [
    "<div class=\"alert alert-block alert-danger\"> <h3>Q4. 利用 pivot_table 呈現出台北市在各年度不同季節下的平均溫度狀況\n",
    " </h3> </div>"
   ]
  },
  {
   "cell_type": "markdown",
   "metadata": {},
   "source": [
    "<font class=\"alert alert-block alert-danger\"> Answer </font> "
   ]
  },
  {
   "cell_type": "code",
   "execution_count": null,
   "metadata": {
    "collapsed": true
   },
   "outputs": [],
   "source": []
  },
  {
   "cell_type": "markdown",
   "metadata": {},
   "source": [
    "<div class=\"alert alert-block alert-info\"> <h3> Pandas -- Group </h3> </div>"
   ]
  },
  {
   "cell_type": "markdown",
   "metadata": {},
   "source": [
    "<font class=\"alert alert-block alert-info\"> 利用 groupby 將 Temperature 依照年份分組 </font>"
   ]
  },
  {
   "cell_type": "code",
   "execution_count": null,
   "metadata": {
    "collapsed": true
   },
   "outputs": [],
   "source": []
  },
  {
   "cell_type": "code",
   "execution_count": null,
   "metadata": {
    "collapsed": true
   },
   "outputs": [],
   "source": []
  },
  {
   "cell_type": "markdown",
   "metadata": {},
   "source": [
    "<font class=\"alert alert-block alert-info\"> 針對各分組結果(Group_Year)取平均 </font>"
   ]
  },
  {
   "cell_type": "code",
   "execution_count": null,
   "metadata": {
    "collapsed": true
   },
   "outputs": [],
   "source": []
  },
  {
   "cell_type": "code",
   "execution_count": null,
   "metadata": {
    "collapsed": true
   },
   "outputs": [],
   "source": []
  },
  {
   "cell_type": "markdown",
   "metadata": {},
   "source": [
    "<font class=\"alert alert-block alert-info\"> 確認 Group_Year 的Type </font>"
   ]
  },
  {
   "cell_type": "code",
   "execution_count": null,
   "metadata": {
    "collapsed": true
   },
   "outputs": [],
   "source": []
  },
  {
   "cell_type": "markdown",
   "metadata": {},
   "source": [
    "<font class=\"alert alert-block alert-info\"> 利用 groupby 將 Temperature 中 Taipei 依照年份分組，並計算平均溫度 </font>"
   ]
  },
  {
   "cell_type": "code",
   "execution_count": null,
   "metadata": {
    "collapsed": true
   },
   "outputs": [],
   "source": []
  },
  {
   "cell_type": "markdown",
   "metadata": {},
   "source": [
    "<font class=\"alert alert-block alert-info\"> 利用 groupby 將 Temperature 依照年份及季節分組，並計算平均溫度 </font>"
   ]
  },
  {
   "cell_type": "code",
   "execution_count": null,
   "metadata": {
    "collapsed": true
   },
   "outputs": [],
   "source": []
  },
  {
   "cell_type": "markdown",
   "metadata": {},
   "source": [
    "<div class=\"alert alert-block alert-info\"> <h3> Pandas -- Binning </h3> </div>"
   ]
  },
  {
   "cell_type": "markdown",
   "metadata": {},
   "source": [
    "<font class=\"alert alert-block alert-warning\"> 建立一個 Demo Data (Temperature_Taipei)</font>"
   ]
  },
  {
   "cell_type": "code",
   "execution_count": 23,
   "metadata": {
    "scrolled": true
   },
   "outputs": [
    {
     "name": "stdout",
     "output_type": "stream",
     "text": [
      "(13, 2)\n"
     ]
    },
    {
     "data": {
      "text/html": [
       "<div>\n",
       "<table border=\"1\" class=\"dataframe\">\n",
       "  <thead>\n",
       "    <tr style=\"text-align: right;\">\n",
       "      <th></th>\n",
       "      <th>Month</th>\n",
       "      <th>Taipei</th>\n",
       "    </tr>\n",
       "  </thead>\n",
       "  <tbody>\n",
       "    <tr>\n",
       "      <th>0</th>\n",
       "      <td>JAN</td>\n",
       "      <td>16.8</td>\n",
       "    </tr>\n",
       "    <tr>\n",
       "      <th>1</th>\n",
       "      <td>FEB</td>\n",
       "      <td>16.5</td>\n",
       "    </tr>\n",
       "    <tr>\n",
       "      <th>2</th>\n",
       "      <td>MAR</td>\n",
       "      <td>18.9</td>\n",
       "    </tr>\n",
       "    <tr>\n",
       "      <th>3</th>\n",
       "      <td>APR</td>\n",
       "      <td>22.5</td>\n",
       "    </tr>\n",
       "    <tr>\n",
       "      <th>4</th>\n",
       "      <td>MAY</td>\n",
       "      <td>25.2</td>\n",
       "    </tr>\n",
       "    <tr>\n",
       "      <th>5</th>\n",
       "      <td>JUN</td>\n",
       "      <td>28.0</td>\n",
       "    </tr>\n",
       "    <tr>\n",
       "      <th>6</th>\n",
       "      <td>JUL</td>\n",
       "      <td>30.5</td>\n",
       "    </tr>\n",
       "    <tr>\n",
       "      <th>7</th>\n",
       "      <td>AUG</td>\n",
       "      <td>30.2</td>\n",
       "    </tr>\n",
       "    <tr>\n",
       "      <th>8</th>\n",
       "      <td>SEP</td>\n",
       "      <td>29.7</td>\n",
       "    </tr>\n",
       "    <tr>\n",
       "      <th>9</th>\n",
       "      <td>OCT</td>\n",
       "      <td>24.7</td>\n",
       "    </tr>\n",
       "    <tr>\n",
       "      <th>10</th>\n",
       "      <td>NOV</td>\n",
       "      <td>22.3</td>\n",
       "    </tr>\n",
       "    <tr>\n",
       "      <th>11</th>\n",
       "      <td>DEC</td>\n",
       "      <td>16.5</td>\n",
       "    </tr>\n",
       "    <tr>\n",
       "      <th>12</th>\n",
       "      <td>JAN</td>\n",
       "      <td>16.8</td>\n",
       "    </tr>\n",
       "  </tbody>\n",
       "</table>\n",
       "</div>"
      ],
      "text/plain": [
       "   Month  Taipei\n",
       "0    JAN    16.8\n",
       "1    FEB    16.5\n",
       "2    MAR    18.9\n",
       "3    APR    22.5\n",
       "4    MAY    25.2\n",
       "5    JUN    28.0\n",
       "6    JUL    30.5\n",
       "7    AUG    30.2\n",
       "8    SEP    29.7\n",
       "9    OCT    24.7\n",
       "10   NOV    22.3\n",
       "11   DEC    16.5\n",
       "12   JAN    16.8"
      ]
     },
     "execution_count": 23,
     "metadata": {},
     "output_type": "execute_result"
    }
   ],
   "source": [
    "Month = ['JAN','FEB','MAR','APR','MAY','JUN','JUL','AUG','SEP','OCT','NOV','DEC','JAN']\n",
    "Taipei = [16.8,16.5,18.9,22.5,25.2,28.0,30.5,30.2,29.7,24.7,22.3,16.5,16.8]\n",
    "Temperature_Taipei_table = { \"Month\" : Month,\n",
    "                             \"Taipei\" : Taipei  }\n",
    "Temperature_Taipei = pd.DataFrame(Temperature_Taipei_table)\n",
    "print(Temperature_Taipei.shape)\n",
    "Temperature_Taipei"
   ]
  },
  {
   "cell_type": "markdown",
   "metadata": {},
   "source": [
    "<font class=\"alert alert-block alert-info\"> 利用 cut 切分資料 </font>\n",
    "<font class=\"alert alert-block alert-info\"> 28度以下:冷 ; 28度以上:熱</font>"
   ]
  },
  {
   "cell_type": "code",
   "execution_count": null,
   "metadata": {
    "collapsed": true
   },
   "outputs": [],
   "source": []
  },
  {
   "cell_type": "markdown",
   "metadata": {},
   "source": [
    "<div class=\"alert alert-block alert-info\"> <h3> Pandas -- Duplicate </h3> </div>"
   ]
  },
  {
   "cell_type": "markdown",
   "metadata": {},
   "source": [
    "<font class=\"alert alert-block alert-info\"> 利用 duplicated 確認資料中是否有重複值 </font>"
   ]
  },
  {
   "cell_type": "code",
   "execution_count": null,
   "metadata": {
    "collapsed": true
   },
   "outputs": [],
   "source": []
  },
  {
   "cell_type": "markdown",
   "metadata": {},
   "source": [
    "<font class=\"alert alert-block alert-info\"> 利用 drop_duplicated 去除資料重複值 </font>"
   ]
  },
  {
   "cell_type": "code",
   "execution_count": null,
   "metadata": {
    "collapsed": true
   },
   "outputs": [],
   "source": []
  },
  {
   "cell_type": "code",
   "execution_count": null,
   "metadata": {
    "collapsed": true
   },
   "outputs": [],
   "source": []
  },
  {
   "cell_type": "markdown",
   "metadata": {},
   "source": [
    "<div class=\"alert alert-block alert-info\"> <h2> Matplotlib </h2> </div>"
   ]
  },
  {
   "cell_type": "code",
   "execution_count": 29,
   "metadata": {
    "collapsed": true
   },
   "outputs": [],
   "source": [
    "import matplotlib.pyplot as plt"
   ]
  },
  {
   "cell_type": "markdown",
   "metadata": {},
   "source": [
    "<font class=\"alert alert-block alert-info\"> 讓圖畫在 Jupyter Notebook 中 </font>"
   ]
  },
  {
   "cell_type": "code",
   "execution_count": null,
   "metadata": {
    "collapsed": true
   },
   "outputs": [],
   "source": []
  },
  {
   "cell_type": "markdown",
   "metadata": {},
   "source": [
    "<font class=\"alert alert-block alert-warning\"> 使用 Temperature 資料 </font>"
   ]
  },
  {
   "cell_type": "code",
   "execution_count": 31,
   "metadata": {
    "scrolled": true
   },
   "outputs": [
    {
     "data": {
      "text/html": [
       "<div>\n",
       "<table border=\"1\" class=\"dataframe\">\n",
       "  <thead>\n",
       "    <tr style=\"text-align: right;\">\n",
       "      <th></th>\n",
       "      <th>Kaohsiung</th>\n",
       "      <th>Month</th>\n",
       "      <th>Season</th>\n",
       "      <th>Taichung</th>\n",
       "      <th>Taipei</th>\n",
       "      <th>Year</th>\n",
       "    </tr>\n",
       "  </thead>\n",
       "  <tbody>\n",
       "    <tr>\n",
       "      <th>0</th>\n",
       "      <td>19.5</td>\n",
       "      <td>JAN</td>\n",
       "      <td>Winter</td>\n",
       "      <td>16.4</td>\n",
       "      <td>16.8</td>\n",
       "      <td>2014</td>\n",
       "    </tr>\n",
       "    <tr>\n",
       "      <th>1</th>\n",
       "      <td>20.3</td>\n",
       "      <td>FEB</td>\n",
       "      <td>Winter</td>\n",
       "      <td>17.0</td>\n",
       "      <td>16.5</td>\n",
       "      <td>2014</td>\n",
       "    </tr>\n",
       "    <tr>\n",
       "      <th>2</th>\n",
       "      <td>22.6</td>\n",
       "      <td>MAR</td>\n",
       "      <td>Spring</td>\n",
       "      <td>19.8</td>\n",
       "      <td>18.9</td>\n",
       "      <td>2014</td>\n",
       "    </tr>\n",
       "    <tr>\n",
       "      <th>3</th>\n",
       "      <td>25.9</td>\n",
       "      <td>APR</td>\n",
       "      <td>Spring</td>\n",
       "      <td>24.1</td>\n",
       "      <td>22.5</td>\n",
       "      <td>2014</td>\n",
       "    </tr>\n",
       "    <tr>\n",
       "      <th>4</th>\n",
       "      <td>27.8</td>\n",
       "      <td>MAY</td>\n",
       "      <td>Spring</td>\n",
       "      <td>25.8</td>\n",
       "      <td>25.2</td>\n",
       "      <td>2014</td>\n",
       "    </tr>\n",
       "  </tbody>\n",
       "</table>\n",
       "</div>"
      ],
      "text/plain": [
       "   Kaohsiung Month  Season  Taichung  Taipei  Year\n",
       "0       19.5   JAN  Winter      16.4    16.8  2014\n",
       "1       20.3   FEB  Winter      17.0    16.5  2014\n",
       "2       22.6   MAR  Spring      19.8    18.9  2014\n",
       "3       25.9   APR  Spring      24.1    22.5  2014\n",
       "4       27.8   MAY  Spring      25.8    25.2  2014"
      ]
     },
     "execution_count": 31,
     "metadata": {},
     "output_type": "execute_result"
    }
   ],
   "source": [
    "Temperature.head()"
   ]
  },
  {
   "cell_type": "markdown",
   "metadata": {},
   "source": [
    "<font class=\"alert alert-block alert-info\"> Scatter Plot </font>\n",
    "<font class=\"alert alert-block alert-info\"> 想知道 台北市 及 台中市溫度的關係 </font>"
   ]
  },
  {
   "cell_type": "code",
   "execution_count": null,
   "metadata": {
    "collapsed": true
   },
   "outputs": [],
   "source": []
  },
  {
   "cell_type": "markdown",
   "metadata": {},
   "source": [
    "<font class=\"alert alert-block alert-info\"> Scatter Plot </font>\n",
    "<font class=\"alert alert-block alert-info\"> 想知道 台北市 及 台中市溫度的關係 </font>\n",
    "<font class=\"alert alert-block alert-info\"> 加入標籤及標題 </font>"
   ]
  },
  {
   "cell_type": "code",
   "execution_count": null,
   "metadata": {
    "collapsed": true
   },
   "outputs": [],
   "source": []
  },
  {
   "cell_type": "markdown",
   "metadata": {},
   "source": [
    "<font class=\"alert alert-block alert-info\"> Scatter Plot </font>\n",
    "<font class=\"alert alert-block alert-info\"> 想知道 台北市 及 台中市溫度的關係 </font>\n",
    "<font class=\"alert alert-block alert-info\"> 標題改為中文 </font>"
   ]
  },
  {
   "cell_type": "code",
   "execution_count": null,
   "metadata": {
    "collapsed": true
   },
   "outputs": [],
   "source": []
  },
  {
   "cell_type": "markdown",
   "metadata": {},
   "source": [
    "<font class=\"alert alert-block alert-warning\"> 顯示中文字型設定 </font>"
   ]
  },
  {
   "cell_type": "code",
   "execution_count": null,
   "metadata": {
    "collapsed": true
   },
   "outputs": [],
   "source": [
    "from matplotlib.font_manager import FontProperties\n",
    "font = FontProperties(fname=r\"\",size=12)"
   ]
  },
  {
   "cell_type": "code",
   "execution_count": null,
   "metadata": {
    "collapsed": true
   },
   "outputs": [],
   "source": []
  },
  {
   "cell_type": "markdown",
   "metadata": {},
   "source": [
    "<font class=\"alert alert-block alert-info\"> Line Plot </font>\n",
    "<font class=\"alert alert-block alert-info\"> Sine Function   $f(x)=sin(x)$</font>"
   ]
  },
  {
   "cell_type": "code",
   "execution_count": null,
   "metadata": {
    "collapsed": true
   },
   "outputs": [],
   "source": []
  },
  {
   "cell_type": "markdown",
   "metadata": {},
   "source": [
    "<font class=\"alert alert-block alert-info\"> Line Plot </font>\n",
    "<font class=\"alert alert-block alert-info\"> Sine Function   $f(x)=sin(x)$</font>\n",
    "<font class=\"alert alert-block alert-info\"> 加入格線 </font>"
   ]
  },
  {
   "cell_type": "code",
   "execution_count": null,
   "metadata": {
    "collapsed": true
   },
   "outputs": [],
   "source": []
  },
  {
   "cell_type": "markdown",
   "metadata": {},
   "source": [
    "<div class=\"alert alert-block alert-danger\"> <h3>Q5. 畫線圖  <font class=\"alert alert-block alert-info\"> $f(x) = x^2$ </font> </h3> </div>"
   ]
  },
  {
   "cell_type": "markdown",
   "metadata": {},
   "source": [
    "<font class=\"alert alert-block alert-danger\"> Answer </font> "
   ]
  },
  {
   "cell_type": "code",
   "execution_count": null,
   "metadata": {
    "collapsed": true
   },
   "outputs": [],
   "source": []
  },
  {
   "cell_type": "markdown",
   "metadata": {},
   "source": [
    "<div class=\"alert alert-block alert-danger\"> <h3>Q6. 畫線圖  <font class=\"alert alert-block alert-info\"> $f(x) = cos(x)$ </font> </h3> </div>"
   ]
  },
  {
   "cell_type": "markdown",
   "metadata": {},
   "source": [
    "<font class=\"alert alert-block alert-danger\"> Answer </font> "
   ]
  },
  {
   "cell_type": "code",
   "execution_count": null,
   "metadata": {
    "collapsed": true
   },
   "outputs": [],
   "source": []
  },
  {
   "cell_type": "markdown",
   "metadata": {},
   "source": [
    "<font class=\"alert alert-block alert-info\"> Line Plot </font>\n",
    "<font class=\"alert alert-block alert-info\"> Sine Function   $f(x)=sin(x)$</font>\n",
    "<font class=\"alert alert-block alert-info\"> Cosine Function   $f(x)=cos(x)$</font>"
   ]
  },
  {
   "cell_type": "code",
   "execution_count": null,
   "metadata": {
    "collapsed": true
   },
   "outputs": [],
   "source": []
  },
  {
   "cell_type": "markdown",
   "metadata": {},
   "source": [
    "<font class=\"alert alert-block alert-info\"> Line Plot </font>\n",
    "<font class=\"alert alert-block alert-info\"> 改顏色</font>\n",
    "<font class=\"alert alert-block alert-info\"> Sine Function (黃色)   $f(x)=sin(x)$</font>\n",
    "<font class=\"alert alert-block alert-info\"> Cosine Function (紅色)   $f(x)=cos(x)$</font>\n"
   ]
  },
  {
   "cell_type": "code",
   "execution_count": null,
   "metadata": {
    "collapsed": true
   },
   "outputs": [],
   "source": []
  },
  {
   "cell_type": "markdown",
   "metadata": {},
   "source": [
    "<font class=\"alert alert-block alert-info\"> Line Plot </font>\n",
    "<font class=\"alert alert-block alert-info\"> 改顏色</font>\n",
    "<font class=\"alert alert-block alert-info\"> Sine Function (dash)   $f(x)=sin(x)$</font>\n",
    "<font class=\"alert alert-block alert-info\"> Cosine Function (dotted)   $f(x)=cos(x)$</font>\n"
   ]
  },
  {
   "cell_type": "code",
   "execution_count": null,
   "metadata": {
    "collapsed": true
   },
   "outputs": [],
   "source": []
  },
  {
   "cell_type": "markdown",
   "metadata": {},
   "source": [
    "<font class=\"alert alert-block alert-info\"> Line Plot </font>\n",
    "<font class=\"alert alert-block alert-info\"> 加入圖例</font>\n",
    "<font class=\"alert alert-block alert-info\"> Sine Function (dash)   $f(x)=sin(x)$</font>\n",
    "<font class=\"alert alert-block alert-info\"> Cosine Function (dotted)   $f(x)=cos(x)$</font>\n"
   ]
  },
  {
   "cell_type": "code",
   "execution_count": null,
   "metadata": {
    "collapsed": true
   },
   "outputs": [],
   "source": []
  },
  {
   "cell_type": "markdown",
   "metadata": {},
   "source": [
    "<font class=\"alert alert-block alert-info\"> Histogram Plot </font>\n",
    "<font class=\"alert alert-block alert-info\"> Normal distribution </font>"
   ]
  },
  {
   "cell_type": "code",
   "execution_count": null,
   "metadata": {
    "collapsed": true
   },
   "outputs": [],
   "source": []
  },
  {
   "cell_type": "markdown",
   "metadata": {},
   "source": [
    "<font class=\"alert alert-block alert-info\"> Histogram Plot </font>\n",
    "<font class=\"alert alert-block alert-info\"> 左右圖 </font>\n",
    "<font class=\"alert alert-block alert-info\"> Normal distribution </font>\n",
    "<font class=\"alert alert-block alert-info\"> Uniform distribution </font>"
   ]
  },
  {
   "cell_type": "code",
   "execution_count": null,
   "metadata": {
    "collapsed": true
   },
   "outputs": [],
   "source": []
  },
  {
   "cell_type": "markdown",
   "metadata": {},
   "source": [
    "<div class=\"alert alert-block alert-danger\"> <h3>Q7. 上下排列 台北、台中、高雄溫度的直方圖</h3> </div>"
   ]
  },
  {
   "cell_type": "code",
   "execution_count": null,
   "metadata": {
    "collapsed": true
   },
   "outputs": [],
   "source": []
  },
  {
   "cell_type": "markdown",
   "metadata": {},
   "source": [
    "<font class=\"alert alert-block alert-warning\"> 建立 Demo Data (Taipei_Season,Taichung_Season,Kaohsiung_Season)</font>"
   ]
  },
  {
   "cell_type": "code",
   "execution_count": 48,
   "metadata": {
    "collapsed": true
   },
   "outputs": [],
   "source": [
    "Taipei_Season = Temperature['Taipei'].groupby(Temperature['Season']).mean()\n",
    "Taichung_Season = Temperature['Taichung'].groupby(Temperature['Season']).mean()\n",
    "Kaohsiung_Season = Temperature['Kaohsiung'].groupby(Temperature['Season']).mean()"
   ]
  },
  {
   "cell_type": "markdown",
   "metadata": {},
   "source": [
    "<font class=\"alert alert-block alert-info\"> Bar Plot </font>\n",
    "<font class=\"alert alert-block alert-info\"> 台北在不同季節下的溫度變化 </font>"
   ]
  },
  {
   "cell_type": "code",
   "execution_count": null,
   "metadata": {
    "collapsed": true
   },
   "outputs": [],
   "source": []
  },
  {
   "cell_type": "markdown",
   "metadata": {},
   "source": [
    "<font class=\"alert alert-block alert-info\"> Bar Plot </font>\n",
    "<font class=\"alert alert-block alert-info\"> 台北在不同季節下的溫度變化 </font>\n",
    "<font class=\"alert alert-block alert-info\"> 轉換圖的方向(barth) </font>"
   ]
  },
  {
   "cell_type": "code",
   "execution_count": null,
   "metadata": {
    "collapsed": true
   },
   "outputs": [],
   "source": []
  },
  {
   "cell_type": "markdown",
   "metadata": {},
   "source": [
    "<font class=\"alert alert-block alert-info\"> Save Plot </font>\n",
    "<font class=\"alert alert-block alert-info\"> 台北在不同季節下的溫度變化，存成 Taipei_Season.png </font>"
   ]
  },
  {
   "cell_type": "code",
   "execution_count": null,
   "metadata": {
    "collapsed": true
   },
   "outputs": [],
   "source": []
  }
 ],
 "metadata": {
  "kernelspec": {
   "display_name": "Python 3",
   "language": "python",
   "name": "python3"
  },
  "language_info": {
   "codemirror_mode": {
    "name": "ipython",
    "version": 3
   },
   "file_extension": ".py",
   "mimetype": "text/x-python",
   "name": "python",
   "nbconvert_exporter": "python",
   "pygments_lexer": "ipython3",
   "version": "3.5.1"
  }
 },
 "nbformat": 4,
 "nbformat_minor": 1
}
