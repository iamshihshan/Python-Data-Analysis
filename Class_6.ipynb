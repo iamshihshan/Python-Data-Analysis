{
 "cells": [
  {
   "cell_type": "markdown",
   "metadata": {},
   "source": [
    "<div class=\"alert alert-block alert-info\"> <h2> Pandas </h2> </div>"
   ]
  },
  {
   "cell_type": "code",
   "execution_count": null,
   "metadata": {
    "collapsed": true
   },
   "outputs": [],
   "source": [
    "import pandas as pd\n",
    "import numpy as np"
   ]
  },
  {
   "cell_type": "markdown",
   "metadata": {},
   "source": [
    "<div class=\"alert alert-block alert-info\"> <h2> Matplotlib </h2> </div>"
   ]
  },
  {
   "cell_type": "code",
   "execution_count": null,
   "metadata": {
    "collapsed": true
   },
   "outputs": [],
   "source": [
    "import matplotlib.pyplot as plt"
   ]
  },
  {
   "cell_type": "markdown",
   "metadata": {},
   "source": [
    "<font class=\"alert alert-block alert-info\"> 讓圖畫在 Jupyter Notebook 中 </font>"
   ]
  },
  {
   "cell_type": "code",
   "execution_count": null,
   "metadata": {
    "collapsed": true
   },
   "outputs": [],
   "source": [
    "%matplotlib inline"
   ]
  },
  {
   "cell_type": "markdown",
   "metadata": {},
   "source": [
    "<font class=\"alert alert-block alert-warning\"> 建立一個 Demo Data (Temperature)</font>"
   ]
  },
  {
   "cell_type": "code",
   "execution_count": null,
   "metadata": {
    "collapsed": true
   },
   "outputs": [],
   "source": [
    "Year = ['2014','2014','2014','2014','2014','2014','2014','2014','2014','2014','2014','2014',\n",
    "        '2015','2015','2015','2015','2015','2015','2015','2015','2015','2015','2015','2015',\n",
    "        '2016','2016','2016','2016','2016','2016','2016','2016','2016','2016','2016','2016']\n",
    "Month = ['JAN','FEB','MAR','APR','MAY','JUN','JUL','AUG','SEP','OCT','NOV','DEC',\n",
    "         'JAN','FEB','MAR','APR','MAY','JUN','JUL','AUG','SEP','OCT','NOV','DEC',\n",
    "         'JAN','FEB','MAR','APR','MAY','JUN','JUL','AUG','SEP','OCT','NOV','DEC']\n",
    "Season = ['Winter','Winter','Spring','Spring','Spring','Summer','Summer','Summer','Fall','Fall','Fall','Winter',\n",
    "          'Winter','Winter','Spring','Spring','Spring','Summer','Summer','Summer','Fall','Fall','Fall','Winter',\n",
    "          'Winter','Winter','Spring','Spring','Spring','Summer','Summer','Summer','Fall','Fall','Fall','Winter']\n",
    "Taipei = [16.8,16.5,18.9,22.5,25.2,28.0,30.5,30.2,29.7,24.7,22.3,16.5,\n",
    "          16.7,20.8,18.9,22.7,26.1,30.0,30.0,28.6,27.4,25.2,23.5,18.9,\n",
    "          16.2,15.5,17.5,24.0,27.1,29.4,30.3,30.1,27.8,27.0,22.6,20.1]\n",
    "Taichung = [16.4,17.0,19.8,24.1,25.8,28.6,30.1,28.9,29.2,25.6,23.1,17.1,\n",
    "            17.1,18.1,20.7,24.4,26.9,29.7,29.2,28.0,27.8,26.2,24.3,19.6,\n",
    "            16.8,16.4,18.3,24.9,27.6,28.8,29.4,28.9,27.9,27.5,23.4,20.4] \n",
    "Kaohsiung = [19.5,20.3,22.6,25.9,27.8,29.2,30.3,29.1,29.5,27.2,25.2,20.2,\n",
    "             19.9,17.3,23.6,26.2,28.3,30.6,29.5,28.8,28.8,27.7,26.2,22.4,\n",
    "             19.3,19.6,21.6,26.9,28.9,29.7,30.2,29.4,28.4,28.4,25.7,22.9]\n",
    "Temperature_table = { \"Year\" : Year,\n",
    "                      \"Month\" : Month,\n",
    "                      \"Season\" : Season,\n",
    "                      \"Taipei\" : Taipei,\n",
    "                      \"Taichung\" : Taichung,\n",
    "                      \"Kaohsiung\" : Kaohsiung }\n",
    "Temperature = pd.DataFrame(Temperature_table)\n",
    "print(Temperature.shape)\n",
    "Temperature.head()"
   ]
  },
  {
   "cell_type": "markdown",
   "metadata": {},
   "source": [
    "<font class=\"alert alert-block alert-info\"> Scatter Plot </font>\n",
    "<font class=\"alert alert-block alert-info\"> 想知道 台北市 及 台中市溫度的關係 </font>"
   ]
  },
  {
   "cell_type": "code",
   "execution_count": null,
   "metadata": {
    "collapsed": true
   },
   "outputs": [],
   "source": [
    "plt.scatter(Temperature['Taipei'], Temperature['Taichung'])\n",
    "plt.show()"
   ]
  },
  {
   "cell_type": "markdown",
   "metadata": {},
   "source": [
    "<font class=\"alert alert-block alert-info\"> Line Plot </font>\n",
    "<font class=\"alert alert-block alert-info\"> Sine Function   $f(x)=sin(x)$</font>\n",
    "<font class=\"alert alert-block alert-info\"> Cosine Function   $f(x)=cos(x)$</font>"
   ]
  },
  {
   "cell_type": "code",
   "execution_count": null,
   "metadata": {
    "collapsed": true
   },
   "outputs": [],
   "source": [
    "x = np.arange(-2.0, 2.0, 0.01)\n",
    "y_sin = np.sin(2 * np.pi * x)\n",
    "y_cos = np.cos(2 * np.pi * x)\n",
    "\n",
    "plt.plot(x, y_sin)\n",
    "plt.plot(x, y_cos)\n",
    "plt.xlabel(\"x\")\n",
    "plt.ylabel(\"y\")\n",
    "plt.title(\"f(x) = sin(x) & f(x) = cos(x)\")\n",
    "plt.grid(True)\n",
    "plt.show()"
   ]
  },
  {
   "cell_type": "markdown",
   "metadata": {},
   "source": [
    "<font class=\"alert alert-block alert-info\"> Histogram Plot </font>\n",
    "<font class=\"alert alert-block alert-info\"> Normal distribution </font>"
   ]
  },
  {
   "cell_type": "code",
   "execution_count": null,
   "metadata": {
    "collapsed": true
   },
   "outputs": [],
   "source": []
  },
  {
   "cell_type": "markdown",
   "metadata": {},
   "source": [
    "<font class=\"alert alert-block alert-info\"> Histogram Plot </font>\n",
    "<font class=\"alert alert-block alert-info\"> 左右圖 </font>\n",
    "<font class=\"alert alert-block alert-info\"> Normal distribution </font>\n",
    "<font class=\"alert alert-block alert-info\"> Uniform distribution </font>"
   ]
  },
  {
   "cell_type": "code",
   "execution_count": null,
   "metadata": {
    "collapsed": true
   },
   "outputs": [],
   "source": []
  },
  {
   "cell_type": "markdown",
   "metadata": {},
   "source": [
    "<div class=\"alert alert-block alert-danger\"> <h3>Q1. 上下排列 台北、台中、高雄溫度的直方圖</h3> </div>"
   ]
  },
  {
   "cell_type": "code",
   "execution_count": null,
   "metadata": {
    "collapsed": true
   },
   "outputs": [],
   "source": []
  },
  {
   "cell_type": "markdown",
   "metadata": {},
   "source": [
    "<font class=\"alert alert-block alert-warning\"> 建立 Demo Data (Taipei_Season,Taichung_Season,Kaohsiung_Season)</font>"
   ]
  },
  {
   "cell_type": "code",
   "execution_count": null,
   "metadata": {
    "collapsed": true
   },
   "outputs": [],
   "source": [
    "Taipei_Season = Temperature['Taipei'].groupby(Temperature['Season']).mean()\n",
    "Taichung_Season = Temperature['Taichung'].groupby(Temperature['Season']).mean()\n",
    "Kaohsiung_Season = Temperature['Kaohsiung'].groupby(Temperature['Season']).mean()"
   ]
  },
  {
   "cell_type": "markdown",
   "metadata": {},
   "source": [
    "<font class=\"alert alert-block alert-info\"> Bar Plot </font>\n",
    "<font class=\"alert alert-block alert-info\"> 台北在不同季節下的溫度變化 </font>"
   ]
  },
  {
   "cell_type": "code",
   "execution_count": null,
   "metadata": {
    "collapsed": true
   },
   "outputs": [],
   "source": []
  },
  {
   "cell_type": "markdown",
   "metadata": {},
   "source": [
    "<font class=\"alert alert-block alert-info\"> Bar Plot </font>\n",
    "<font class=\"alert alert-block alert-info\"> 台北在不同季節下的溫度變化 </font>\n",
    "<font class=\"alert alert-block alert-info\"> 轉換圖的方向(barth) </font>"
   ]
  },
  {
   "cell_type": "code",
   "execution_count": null,
   "metadata": {
    "collapsed": true
   },
   "outputs": [],
   "source": []
  },
  {
   "cell_type": "markdown",
   "metadata": {},
   "source": [
    "<font class=\"alert alert-block alert-info\"> Save Plot </font>\n",
    "<font class=\"alert alert-block alert-info\"> 台北在不同季節下的溫度變化，存成 Taipei_Season.png </font>"
   ]
  },
  {
   "cell_type": "code",
   "execution_count": null,
   "metadata": {
    "collapsed": true
   },
   "outputs": [],
   "source": []
  },
  {
   "cell_type": "markdown",
   "metadata": {},
   "source": [
    "<div class=\"alert alert-block alert-info\"> <h2> Seaborn </h2> </div>"
   ]
  },
  {
   "cell_type": "code",
   "execution_count": null,
   "metadata": {
    "collapsed": true
   },
   "outputs": [],
   "source": [
    "import seaborn as sns"
   ]
  },
  {
   "cell_type": "markdown",
   "metadata": {},
   "source": [
    "<font class=\"alert alert-block alert-info\"> Scatter Plot </font>\n",
    "<font class=\"alert alert-block alert-info\"> 想知道 台北市 及 台中市溫度的關係 </font>"
   ]
  },
  {
   "cell_type": "code",
   "execution_count": null,
   "metadata": {
    "collapsed": true
   },
   "outputs": [],
   "source": []
  },
  {
   "cell_type": "markdown",
   "metadata": {},
   "source": [
    "<font class=\"alert alert-block alert-info\"> Line Plot </font>"
   ]
  },
  {
   "cell_type": "code",
   "execution_count": null,
   "metadata": {
    "collapsed": true
   },
   "outputs": [],
   "source": []
  },
  {
   "cell_type": "markdown",
   "metadata": {},
   "source": [
    "<font class=\"alert alert-block alert-info\"> Histogram Plot </font>\n",
    "<font class=\"alert alert-block alert-info\"> Normal distribution </font>"
   ]
  },
  {
   "cell_type": "code",
   "execution_count": null,
   "metadata": {
    "collapsed": true
   },
   "outputs": [],
   "source": []
  },
  {
   "cell_type": "markdown",
   "metadata": {},
   "source": [
    "<font class=\"alert alert-block alert-info\"> Bar Plot </font>"
   ]
  },
  {
   "cell_type": "code",
   "execution_count": null,
   "metadata": {
    "collapsed": true
   },
   "outputs": [],
   "source": []
  },
  {
   "cell_type": "markdown",
   "metadata": {},
   "source": [
    "<div class=\"alert alert-block alert-info\"> <h2> Scikit-Learn  </h2> </div>"
   ]
  },
  {
   "cell_type": "markdown",
   "metadata": {},
   "source": [
    "<font class=\"alert alert-block alert-info\"> Import Scikit-Learn 的 Datasets </font>"
   ]
  },
  {
   "cell_type": "code",
   "execution_count": null,
   "metadata": {
    "collapsed": true
   },
   "outputs": [],
   "source": [
    "from sklearn import datasets"
   ]
  },
  {
   "cell_type": "markdown",
   "metadata": {},
   "source": [
    "<font class=\"alert alert-block alert-info\"> Dataset </font>\n",
    "<font class=\"alert alert-block alert-info\"> boston </font>"
   ]
  },
  {
   "cell_type": "code",
   "execution_count": null,
   "metadata": {
    "collapsed": true
   },
   "outputs": [],
   "source": []
  },
  {
   "cell_type": "markdown",
   "metadata": {},
   "source": [
    "<font class=\"alert alert-block alert-info\"> Check boston </font>\n",
    "<font class=\"alert alert-block alert-info\"> type </font>"
   ]
  },
  {
   "cell_type": "code",
   "execution_count": null,
   "metadata": {
    "collapsed": true
   },
   "outputs": [],
   "source": []
  },
  {
   "cell_type": "markdown",
   "metadata": {},
   "source": [
    "<font class=\"alert alert-block alert-info\"> Check boston </font>\n",
    "<font class=\"alert alert-block alert-info\"> keys </font>"
   ]
  },
  {
   "cell_type": "code",
   "execution_count": null,
   "metadata": {
    "collapsed": true
   },
   "outputs": [],
   "source": []
  },
  {
   "cell_type": "markdown",
   "metadata": {},
   "source": [
    "<font class=\"alert alert-block alert-info\"> boston </font>\n",
    "<font class=\"alert alert-block alert-info\"> DESCR </font>"
   ]
  },
  {
   "cell_type": "code",
   "execution_count": null,
   "metadata": {
    "collapsed": true
   },
   "outputs": [],
   "source": []
  },
  {
   "cell_type": "markdown",
   "metadata": {},
   "source": [
    "<font class=\"alert alert-block alert-info\"> boston </font>\n",
    "<font class=\"alert alert-block alert-info\"> feature_names </font>"
   ]
  },
  {
   "cell_type": "code",
   "execution_count": null,
   "metadata": {
    "collapsed": true
   },
   "outputs": [],
   "source": []
  },
  {
   "cell_type": "markdown",
   "metadata": {},
   "source": [
    "<font class=\"alert alert-block alert-info\"> boston </font>\n",
    "<font class=\"alert alert-block alert-info\"> data </font>"
   ]
  },
  {
   "cell_type": "code",
   "execution_count": null,
   "metadata": {
    "collapsed": true
   },
   "outputs": [],
   "source": []
  },
  {
   "cell_type": "markdown",
   "metadata": {},
   "source": [
    "<font class=\"alert alert-block alert-info\"> boston </font>\n",
    "<font class=\"alert alert-block alert-info\"> target </font>"
   ]
  },
  {
   "cell_type": "code",
   "execution_count": null,
   "metadata": {
    "collapsed": true
   },
   "outputs": [],
   "source": []
  },
  {
   "cell_type": "markdown",
   "metadata": {},
   "source": [
    "<font class=\"alert alert-block alert-info\"> boston </font>\n",
    "<font class=\"alert alert-block alert-info\"> Data Prepare </font>"
   ]
  },
  {
   "cell_type": "code",
   "execution_count": null,
   "metadata": {
    "collapsed": true
   },
   "outputs": [],
   "source": []
  },
  {
   "cell_type": "markdown",
   "metadata": {},
   "source": [
    "<div class=\"alert alert-block alert-danger\"> <h3>Q2. 根據前幾堂課學到的方法做一些，你認為在進入分析(模型)前應該要做的事\n",
    "</h3> </div>"
   ]
  },
  {
   "cell_type": "code",
   "execution_count": null,
   "metadata": {
    "collapsed": true
   },
   "outputs": [],
   "source": []
  },
  {
   "cell_type": "code",
   "execution_count": null,
   "metadata": {
    "collapsed": true
   },
   "outputs": [],
   "source": []
  },
  {
   "cell_type": "markdown",
   "metadata": {},
   "source": [
    "<font class=\"alert alert-block alert-info\"> boston </font>\n",
    "<font class=\"alert alert-block alert-info\"> Train ＆ Test data </font>"
   ]
  },
  {
   "cell_type": "code",
   "execution_count": null,
   "metadata": {
    "collapsed": true
   },
   "outputs": [],
   "source": []
  },
  {
   "cell_type": "markdown",
   "metadata": {},
   "source": [
    "<font class=\"alert alert-block alert-info\"> boston </font>\n",
    "<font class=\"alert alert-block alert-info\"> Model(Linear Regression) </font>\n",
    "<font class=\"alert alert-block alert-info\"> Import module </font>"
   ]
  },
  {
   "cell_type": "code",
   "execution_count": null,
   "metadata": {
    "collapsed": true
   },
   "outputs": [],
   "source": []
  },
  {
   "cell_type": "markdown",
   "metadata": {},
   "source": [
    "<font class=\"alert alert-block alert-info\"> boston </font>\n",
    "<font class=\"alert alert-block alert-info\"> Model(Linear Regression) </font>\n",
    "<font class=\"alert alert-block alert-info\"> Use LinearRegression </font>"
   ]
  },
  {
   "cell_type": "code",
   "execution_count": null,
   "metadata": {
    "collapsed": true
   },
   "outputs": [],
   "source": []
  },
  {
   "cell_type": "markdown",
   "metadata": {},
   "source": [
    "<font class=\"alert alert-block alert-info\"> boston </font>\n",
    "<font class=\"alert alert-block alert-info\"> Model(Linear Regression) </font>\n",
    "<font class=\"alert alert-block alert-info\"> Training Data </font>"
   ]
  },
  {
   "cell_type": "code",
   "execution_count": null,
   "metadata": {
    "collapsed": true
   },
   "outputs": [],
   "source": []
  },
  {
   "cell_type": "markdown",
   "metadata": {},
   "source": [
    "<font class=\"alert alert-block alert-info\"> boston </font>\n",
    "<font class=\"alert alert-block alert-info\"> Model(Linear Regression) </font>\n",
    "<font class=\"alert alert-block alert-info\"> Intercept </font>"
   ]
  },
  {
   "cell_type": "code",
   "execution_count": null,
   "metadata": {
    "collapsed": true
   },
   "outputs": [],
   "source": []
  },
  {
   "cell_type": "markdown",
   "metadata": {},
   "source": [
    "<font class=\"alert alert-block alert-info\"> boston </font>\n",
    "<font class=\"alert alert-block alert-info\"> Model(Linear Regression) </font>\n",
    "<font class=\"alert alert-block alert-info\"> coefficient </font>"
   ]
  },
  {
   "cell_type": "code",
   "execution_count": null,
   "metadata": {
    "collapsed": true
   },
   "outputs": [],
   "source": []
  },
  {
   "cell_type": "markdown",
   "metadata": {},
   "source": [
    "<font class=\"alert alert-block alert-info\"> boston </font>\n",
    "<font class=\"alert alert-block alert-info\"> Model(Linear Regression) </font>\n",
    "<font class=\"alert alert-block alert-info\"> Regression Tests </font>"
   ]
  },
  {
   "cell_type": "code",
   "execution_count": null,
   "metadata": {
    "collapsed": true
   },
   "outputs": [],
   "source": []
  },
  {
   "cell_type": "markdown",
   "metadata": {},
   "source": [
    "<font class=\"alert alert-block alert-info\"> boston </font>\n",
    "<font class=\"alert alert-block alert-info\"> Predict(Linear Regression) </font>"
   ]
  },
  {
   "cell_type": "code",
   "execution_count": null,
   "metadata": {
    "collapsed": true
   },
   "outputs": [],
   "source": []
  },
  {
   "cell_type": "markdown",
   "metadata": {},
   "source": [
    "<font class=\"alert alert-block alert-info\"> boston </font>\n",
    "<font class=\"alert alert-block alert-info\"> Model Performance(Linear Regression) </font>"
   ]
  },
  {
   "cell_type": "code",
   "execution_count": null,
   "metadata": {
    "collapsed": true
   },
   "outputs": [],
   "source": []
  },
  {
   "cell_type": "markdown",
   "metadata": {},
   "source": [
    "<font class=\"alert alert-block alert-info\"> boston </font>\n",
    "<font class=\"alert alert-block alert-info\"> Model(Support Vector Regression) </font>\n",
    "<font class=\"alert alert-block alert-info\"> Import module </font>"
   ]
  },
  {
   "cell_type": "code",
   "execution_count": null,
   "metadata": {
    "collapsed": true
   },
   "outputs": [],
   "source": []
  },
  {
   "cell_type": "markdown",
   "metadata": {},
   "source": [
    "<font class=\"alert alert-block alert-info\"> boston </font>\n",
    "<font class=\"alert alert-block alert-info\"> Model(Support Vector Regression) </font>\n",
    "<font class=\"alert alert-block alert-info\"> Use Support Vector Regression </font>"
   ]
  },
  {
   "cell_type": "code",
   "execution_count": null,
   "metadata": {
    "collapsed": true
   },
   "outputs": [],
   "source": []
  },
  {
   "cell_type": "markdown",
   "metadata": {},
   "source": [
    "<font class=\"alert alert-block alert-info\"> boston </font>\n",
    "<font class=\"alert alert-block alert-info\"> Model(Support Vector Regression) </font>\n",
    "<font class=\"alert alert-block alert-info\"> Training Data </font>"
   ]
  },
  {
   "cell_type": "code",
   "execution_count": null,
   "metadata": {
    "collapsed": true
   },
   "outputs": [],
   "source": []
  },
  {
   "cell_type": "markdown",
   "metadata": {},
   "source": [
    "<font class=\"alert alert-block alert-info\"> boston </font>\n",
    "<font class=\"alert alert-block alert-info\"> Predict(Support Vector Regression) </font>"
   ]
  },
  {
   "cell_type": "code",
   "execution_count": null,
   "metadata": {
    "collapsed": true
   },
   "outputs": [],
   "source": []
  }
 ],
 "metadata": {
  "kernelspec": {
   "display_name": "Python 3",
   "language": "python",
   "name": "python3"
  },
  "language_info": {
   "codemirror_mode": {
    "name": "ipython",
    "version": 3
   },
   "file_extension": ".py",
   "mimetype": "text/x-python",
   "name": "python",
   "nbconvert_exporter": "python",
   "pygments_lexer": "ipython3",
   "version": "3.5.1"
  }
 },
 "nbformat": 4,
 "nbformat_minor": 1
}
