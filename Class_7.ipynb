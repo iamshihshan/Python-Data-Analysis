{
 "cells": [
  {
   "cell_type": "code",
   "execution_count": null,
   "metadata": {
    "collapsed": true
   },
   "outputs": [],
   "source": [
    "import pandas as pd\n",
    "import numpy as np\n",
    "import matplotlib.pyplot as plt\n",
    "%matplotlib inline\n",
    "import seaborn as sns"
   ]
  },
  {
   "cell_type": "markdown",
   "metadata": {},
   "source": [
    "<div class=\"alert alert-block alert-info\"> <h2> Scikit-Learn  </h2> </div>"
   ]
  },
  {
   "cell_type": "markdown",
   "metadata": {},
   "source": [
    "<font class=\"alert alert-block alert-info\"> Import Scikit-Learn 的 Datasets </font>"
   ]
  },
  {
   "cell_type": "code",
   "execution_count": null,
   "metadata": {
    "collapsed": true
   },
   "outputs": [],
   "source": [
    "from sklearn import datasets"
   ]
  },
  {
   "cell_type": "markdown",
   "metadata": {},
   "source": [
    "<font class=\"alert alert-block alert-info\"> Dataset </font>\n",
    "<font class=\"alert alert-block alert-info\"> iris </font>"
   ]
  },
  {
   "cell_type": "code",
   "execution_count": null,
   "metadata": {
    "collapsed": true
   },
   "outputs": [],
   "source": []
  },
  {
   "cell_type": "markdown",
   "metadata": {},
   "source": [
    "<font class=\"alert alert-block alert-info\"> iris </font>\n",
    "<font class=\"alert alert-block alert-info\"> type </font>"
   ]
  },
  {
   "cell_type": "code",
   "execution_count": null,
   "metadata": {
    "collapsed": true
   },
   "outputs": [],
   "source": []
  },
  {
   "cell_type": "markdown",
   "metadata": {},
   "source": [
    "<font class=\"alert alert-block alert-info\"> iris </font>\n",
    "<font class=\"alert alert-block alert-info\"> keys </font>"
   ]
  },
  {
   "cell_type": "code",
   "execution_count": null,
   "metadata": {
    "collapsed": true
   },
   "outputs": [],
   "source": []
  },
  {
   "cell_type": "markdown",
   "metadata": {},
   "source": [
    "<font class=\"alert alert-block alert-info\"> iris </font>\n",
    "<font class=\"alert alert-block alert-info\"> data </font>\n",
    "<font class=\"alert alert-block alert-info\"> feature_names </font>"
   ]
  },
  {
   "cell_type": "code",
   "execution_count": null,
   "metadata": {
    "collapsed": true
   },
   "outputs": [],
   "source": []
  },
  {
   "cell_type": "code",
   "execution_count": null,
   "metadata": {
    "collapsed": true
   },
   "outputs": [],
   "source": []
  },
  {
   "cell_type": "markdown",
   "metadata": {},
   "source": [
    "<font class=\"alert alert-block alert-info\"> iris </font>\n",
    "<font class=\"alert alert-block alert-info\"> target </font>\n",
    "<font class=\"alert alert-block alert-info\"> target_names </font>"
   ]
  },
  {
   "cell_type": "code",
   "execution_count": null,
   "metadata": {
    "collapsed": true
   },
   "outputs": [],
   "source": []
  },
  {
   "cell_type": "code",
   "execution_count": null,
   "metadata": {
    "collapsed": true
   },
   "outputs": [],
   "source": []
  },
  {
   "cell_type": "markdown",
   "metadata": {},
   "source": [
    "<font class=\"alert alert-block alert-info\"> iris </font>\n",
    "<font class=\"alert alert-block alert-info\"> Data Prepare </font>"
   ]
  },
  {
   "cell_type": "code",
   "execution_count": null,
   "metadata": {
    "collapsed": true
   },
   "outputs": [],
   "source": []
  },
  {
   "cell_type": "markdown",
   "metadata": {},
   "source": [
    "<font class=\"alert alert-block alert-info\"> iris </font>\n",
    "<font class=\"alert alert-block alert-info\"> Exploratory Data Analysis </font>"
   ]
  },
  {
   "cell_type": "code",
   "execution_count": null,
   "metadata": {
    "collapsed": true
   },
   "outputs": [],
   "source": []
  },
  {
   "cell_type": "markdown",
   "metadata": {},
   "source": [
    "<div class=\"alert alert-block alert-warning\"> <h3> Choose Data\n",
    "</h3> </div>"
   ]
  },
  {
   "cell_type": "code",
   "execution_count": null,
   "metadata": {
    "collapsed": true
   },
   "outputs": [],
   "source": [
    "X = iris_df.ix[:, ['petal length (cm)','petal width (cm)']]\n",
    "y = iris.target"
   ]
  },
  {
   "cell_type": "code",
   "execution_count": null,
   "metadata": {
    "collapsed": true
   },
   "outputs": [],
   "source": [
    "np.set_printoptions(precision = 5, suppress = True)"
   ]
  },
  {
   "cell_type": "code",
   "execution_count": null,
   "metadata": {
    "collapsed": true
   },
   "outputs": [],
   "source": [
    "print(\"Mean : \",X.values.mean(axis=0))\n",
    "print(\"Std : \",X.values.std(axis=0))\n",
    "print(\"Max : \",X.values.max(axis=0))\n",
    "print(\"Min : \",X.values.min(axis=0))"
   ]
  },
  {
   "cell_type": "markdown",
   "metadata": {},
   "source": [
    "<div class=\"alert alert-block alert-info\"> <h3> Preprocessing\n",
    "</h3> </div>"
   ]
  },
  {
   "cell_type": "code",
   "execution_count": null,
   "metadata": {
    "collapsed": true
   },
   "outputs": [],
   "source": [
    "from sklearn import preprocessing"
   ]
  },
  {
   "cell_type": "markdown",
   "metadata": {},
   "source": [
    "<font class=\"alert alert-block alert-info\"> Standard </font>"
   ]
  },
  {
   "cell_type": "code",
   "execution_count": null,
   "metadata": {
    "collapsed": true
   },
   "outputs": [],
   "source": []
  },
  {
   "cell_type": "markdown",
   "metadata": {},
   "source": [
    "<font class=\"alert alert-block alert-info\"> MinMax </font>"
   ]
  },
  {
   "cell_type": "code",
   "execution_count": null,
   "metadata": {
    "collapsed": true
   },
   "outputs": [],
   "source": []
  },
  {
   "cell_type": "markdown",
   "metadata": {},
   "source": [
    "<font class=\"alert alert-block alert-info\"> Normalize </font>"
   ]
  },
  {
   "cell_type": "code",
   "execution_count": null,
   "metadata": {
    "collapsed": true
   },
   "outputs": [],
   "source": []
  },
  {
   "cell_type": "markdown",
   "metadata": {},
   "source": [
    "<div class=\"alert alert-block alert-info\"> <h3> Train data ＆ Test data\n",
    "</h3> </div>"
   ]
  },
  {
   "cell_type": "code",
   "execution_count": null,
   "metadata": {
    "collapsed": true
   },
   "outputs": [],
   "source": [
    "from sklearn.model_selection import train_test_split"
   ]
  },
  {
   "cell_type": "code",
   "execution_count": null,
   "metadata": {
    "collapsed": true
   },
   "outputs": [],
   "source": []
  },
  {
   "cell_type": "markdown",
   "metadata": {},
   "source": [
    "<div class=\"alert alert-block alert-info\"> <h3> Logistic Regression\n",
    "</h3> </div>"
   ]
  },
  {
   "cell_type": "markdown",
   "metadata": {},
   "source": [
    "<font class=\"alert alert-block alert-warning\"> Sigmoid function </font>"
   ]
  },
  {
   "cell_type": "code",
   "execution_count": null,
   "metadata": {
    "collapsed": true
   },
   "outputs": [],
   "source": [
    "def SigmoidFunc(x):\n",
    "    return 1 / (1 + np.exp(-x))\n",
    "\n",
    "Sigmoid_x = np.arange(-20, 20, 0.01)\n",
    "Sigmoid_y = SigmoidFunc(Sigmoid_x)\n",
    "plt.plot(Sigmoid_x, Sigmoid_y)\n",
    "plt.axvline(0, ls='dotted', color='black', alpha=0.5)\n",
    "plt.axhline(y=0, ls='dotted', color='black', alpha=0.5)\n",
    "plt.axhline(y=0.5, ls = 'dotted', color='black', alpha=0.5)\n",
    "plt.axhline(y=1, ls='dotted', color='black', alpha=0.5)\n",
    "plt.yticks([0.0, 0.5, 1.0])\n",
    "plt.ylim(-0.05, 1.05)\n",
    "plt.title(\"Sigmoid Function\")\n",
    "plt.show()"
   ]
  },
  {
   "cell_type": "markdown",
   "metadata": {},
   "source": [
    "<font class=\"alert alert-block alert-info\"> Model(Logistic Regression) </font>\n",
    "<font class=\"alert alert-block alert-info\"> Import module </font>"
   ]
  },
  {
   "cell_type": "code",
   "execution_count": null,
   "metadata": {
    "collapsed": true
   },
   "outputs": [],
   "source": []
  },
  {
   "cell_type": "markdown",
   "metadata": {},
   "source": [
    "<font class=\"alert alert-block alert-info\"> Model(Logistic Regression) </font>\n",
    "<font class=\"alert alert-block alert-info\"> Use Logistic Regression </font>"
   ]
  },
  {
   "cell_type": "code",
   "execution_count": null,
   "metadata": {
    "collapsed": true
   },
   "outputs": [],
   "source": []
  },
  {
   "cell_type": "markdown",
   "metadata": {},
   "source": [
    "<font class=\"alert alert-block alert-info\"> Model(Logistic Regression) </font>\n",
    "<font class=\"alert alert-block alert-info\"> Training Data </font>"
   ]
  },
  {
   "cell_type": "code",
   "execution_count": null,
   "metadata": {
    "collapsed": true
   },
   "outputs": [],
   "source": []
  },
  {
   "cell_type": "markdown",
   "metadata": {},
   "source": [
    "<font class=\"alert alert-block alert-info\"> Model(Logistic Regression) </font>\n",
    "<font class=\"alert alert-block alert-info\"> Predict </font>"
   ]
  },
  {
   "cell_type": "code",
   "execution_count": null,
   "metadata": {
    "collapsed": true
   },
   "outputs": [],
   "source": []
  },
  {
   "cell_type": "code",
   "execution_count": null,
   "metadata": {
    "collapsed": true
   },
   "outputs": [],
   "source": []
  },
  {
   "cell_type": "markdown",
   "metadata": {},
   "source": [
    "<font class=\"alert alert-block alert-warning\"> Check probability </font>"
   ]
  },
  {
   "cell_type": "code",
   "execution_count": null,
   "metadata": {
    "collapsed": true
   },
   "outputs": [],
   "source": [
    "print(iris.target_names)\n",
    "print(logit.predict_proba(X_test.values[0, :].reshape(1, 2)))\n",
    "print(logit.predict_proba(X_test.values[1, :].reshape(1, 2)))\n",
    "print(logit.predict_proba(X_test.values[2, :].reshape(1, 2)))"
   ]
  },
  {
   "cell_type": "markdown",
   "metadata": {},
   "source": [
    "<font class=\"alert alert-block alert-info\"> Model(Logistic Regression) </font>\n",
    "<font class=\"alert alert-block alert-info\"> Accuracy </font>"
   ]
  },
  {
   "cell_type": "code",
   "execution_count": null,
   "metadata": {
    "collapsed": true
   },
   "outputs": [],
   "source": []
  },
  {
   "cell_type": "markdown",
   "metadata": {},
   "source": [
    "<div class=\"alert alert-block alert-warning\"> <h3> Decision boundary\n",
    "</h3> </div>"
   ]
  },
  {
   "cell_type": "code",
   "execution_count": null,
   "metadata": {
    "collapsed": true
   },
   "outputs": [],
   "source": [
    "from matplotlib.colors import ListedColormap\n",
    "def DecisionBoundary_plot(X, y, method, h=.02):\n",
    "    markers = ('o', '*', '^') \n",
    "    colors = ('yellow', 'magenta', 'cyan') \n",
    "    colormap = ListedColormap(colors[:len(np.unique(y))])\n",
    "\n",
    "    x_min, x_max = X[:,0].min()-1, X[:,0].max()+1\n",
    "    y_min, y_max = X[:,1].min()-1, X[:,1].max()+1\n",
    "    xx, yy = np.meshgrid(np.arange(x_min, x_max, h),\n",
    "                         np.arange(y_min, y_max, h))\n",
    "    Z = method.predict(np.array([xx.ravel(), yy.ravel()]).T)\n",
    "    Z = Z.reshape(xx.shape)\n",
    "    plt.contourf(xx, yy, Z, alpha=0.2, cmap=colormap)\n",
    "    plt.xlim(xx.min(), xx.max())\n",
    "    plt.ylim(yy.min(), yy.max())\n",
    "    for ix, lab in enumerate(np.unique(y)):\n",
    "        spec = iris.target_names[lab]\n",
    "        plt.scatter( x = X[y==lab,0], y = X[y==lab,1],\n",
    "                     c=colormap(ix), marker=markers[ix], label=spec)  "
   ]
  },
  {
   "cell_type": "markdown",
   "metadata": {},
   "source": [
    "<font class=\"alert alert-block alert-info\"> Model(Logistic Regression) </font>\n",
    "<font class=\"alert alert-block alert-info\"> Plot (Decision boundary) </font>"
   ]
  },
  {
   "cell_type": "code",
   "execution_count": null,
   "metadata": {
    "collapsed": true
   },
   "outputs": [],
   "source": []
  },
  {
   "cell_type": "markdown",
   "metadata": {},
   "source": [
    "<div class=\"alert alert-block alert-danger\"> <h3> 利用經過StandardScaler轉換後的資料，建立Logistic Regression Model，並比較Accuracy\n",
    "</h3> </div>"
   ]
  },
  {
   "cell_type": "code",
   "execution_count": null,
   "metadata": {
    "collapsed": true
   },
   "outputs": [],
   "source": []
  },
  {
   "cell_type": "code",
   "execution_count": null,
   "metadata": {
    "collapsed": true
   },
   "outputs": [],
   "source": []
  },
  {
   "cell_type": "markdown",
   "metadata": {},
   "source": [
    "<div class=\"alert alert-block alert-info\"> <h3> K-Nearest Neighbors </h3> </div>"
   ]
  },
  {
   "cell_type": "markdown",
   "metadata": {},
   "source": [
    "<font class=\"alert alert-block alert-info\"> Model(KNN) </font>\n",
    "<font class=\"alert alert-block alert-info\"> Import module </font>"
   ]
  },
  {
   "cell_type": "code",
   "execution_count": null,
   "metadata": {
    "collapsed": true
   },
   "outputs": [],
   "source": []
  },
  {
   "cell_type": "markdown",
   "metadata": {},
   "source": [
    "<font class=\"alert alert-block alert-info\"> Model(KNN) </font>\n",
    "<font class=\"alert alert-block alert-info\"> Use KNeighborsClassifier </font>"
   ]
  },
  {
   "cell_type": "code",
   "execution_count": null,
   "metadata": {
    "collapsed": true
   },
   "outputs": [],
   "source": []
  },
  {
   "cell_type": "markdown",
   "metadata": {},
   "source": [
    "<font class=\"alert alert-block alert-info\"> Model(KNN) </font>\n",
    "<font class=\"alert alert-block alert-info\"> Training Data </font>"
   ]
  },
  {
   "cell_type": "code",
   "execution_count": null,
   "metadata": {
    "collapsed": true
   },
   "outputs": [],
   "source": []
  },
  {
   "cell_type": "markdown",
   "metadata": {},
   "source": [
    "<font class=\"alert alert-block alert-info\"> Model(KNN) </font>\n",
    "<font class=\"alert alert-block alert-info\"> Predict </font>"
   ]
  },
  {
   "cell_type": "code",
   "execution_count": null,
   "metadata": {
    "collapsed": true
   },
   "outputs": [],
   "source": []
  },
  {
   "cell_type": "markdown",
   "metadata": {},
   "source": [
    "<font class=\"alert alert-block alert-info\"> Model(SVM) </font>\n",
    "<font class=\"alert alert-block alert-info\"> Accuracy </font>"
   ]
  },
  {
   "cell_type": "code",
   "execution_count": null,
   "metadata": {
    "collapsed": true
   },
   "outputs": [],
   "source": []
  },
  {
   "cell_type": "markdown",
   "metadata": {},
   "source": [
    "<div class=\"alert alert-block alert-info\"> <h3> Support Vector Machine \n",
    "</h3> </div>"
   ]
  },
  {
   "cell_type": "markdown",
   "metadata": {},
   "source": [
    "<font class=\"alert alert-block alert-info\"> Model(SVM) </font>\n",
    "<font class=\"alert alert-block alert-info\"> Import module </font>"
   ]
  },
  {
   "cell_type": "code",
   "execution_count": null,
   "metadata": {
    "collapsed": true
   },
   "outputs": [],
   "source": []
  },
  {
   "cell_type": "markdown",
   "metadata": {},
   "source": [
    "<font class=\"alert alert-block alert-info\"> Model(SVM) </font>\n",
    "<font class=\"alert alert-block alert-info\"> Use SVC </font>"
   ]
  },
  {
   "cell_type": "code",
   "execution_count": null,
   "metadata": {
    "collapsed": true
   },
   "outputs": [],
   "source": []
  },
  {
   "cell_type": "markdown",
   "metadata": {},
   "source": [
    "<font class=\"alert alert-block alert-info\"> Model(SVM) </font>\n",
    "<font class=\"alert alert-block alert-info\"> Training Data </font>"
   ]
  },
  {
   "cell_type": "code",
   "execution_count": null,
   "metadata": {
    "collapsed": true
   },
   "outputs": [],
   "source": []
  },
  {
   "cell_type": "markdown",
   "metadata": {},
   "source": [
    "<font class=\"alert alert-block alert-info\"> Model(SVM) </font>\n",
    "<font class=\"alert alert-block alert-info\"> Predict </font>"
   ]
  },
  {
   "cell_type": "code",
   "execution_count": null,
   "metadata": {
    "collapsed": true
   },
   "outputs": [],
   "source": []
  },
  {
   "cell_type": "markdown",
   "metadata": {},
   "source": [
    "<font class=\"alert alert-block alert-info\"> Model(SVM) </font>\n",
    "<font class=\"alert alert-block alert-info\"> Accuracy </font>"
   ]
  },
  {
   "cell_type": "code",
   "execution_count": null,
   "metadata": {
    "collapsed": true
   },
   "outputs": [],
   "source": []
  },
  {
   "cell_type": "markdown",
   "metadata": {},
   "source": [
    "<div class=\"alert alert-block alert-danger\"> <h3> 利用經過StandardScaler轉換後的資料，建立SVM Model，並比較Accuracy\n",
    "</h3> </div>"
   ]
  },
  {
   "cell_type": "code",
   "execution_count": null,
   "metadata": {
    "collapsed": true
   },
   "outputs": [],
   "source": []
  }
 ],
 "metadata": {
  "kernelspec": {
   "display_name": "Python 3",
   "language": "python",
   "name": "python3"
  },
  "language_info": {
   "codemirror_mode": {
    "name": "ipython",
    "version": 3
   },
   "file_extension": ".py",
   "mimetype": "text/x-python",
   "name": "python",
   "nbconvert_exporter": "python",
   "pygments_lexer": "ipython3",
   "version": "3.5.1"
  }
 },
 "nbformat": 4,
 "nbformat_minor": 1
}
